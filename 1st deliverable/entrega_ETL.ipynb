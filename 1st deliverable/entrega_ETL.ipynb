{
 "cells": [
  {
   "cell_type": "code",
   "execution_count": 4,
   "metadata": {},
   "outputs": [],
   "source": [
    "import pandas as pd\n",
    "import psycopg2\n",
    "import yfinance as yf"
   ]
  },
  {
   "attachments": {},
   "cell_type": "markdown",
   "metadata": {},
   "source": [
    "# CONNECT to REDSHIFT"
   ]
  },
  {
   "cell_type": "code",
   "execution_count": 5,
   "metadata": {},
   "outputs": [
    {
     "ename": "FileNotFoundError",
     "evalue": "[Errno 2] No such file or directory: 'C:\\\\Users\\\\juanm\\\\creds\\\\pwd_redshift.txt'",
     "output_type": "error",
     "traceback": [
      "\u001b[1;31m---------------------------------------------------------------------------\u001b[0m",
      "\u001b[1;31mFileNotFoundError\u001b[0m                         Traceback (most recent call last)",
      "Cell \u001b[1;32mIn[5], line 1\u001b[0m\n\u001b[1;32m----> 1\u001b[0m \u001b[39mwith\u001b[39;00m \u001b[39mopen\u001b[39;49m(\u001b[39mr\u001b[39;49m\u001b[39m\"\u001b[39;49m\u001b[39mC:\u001b[39;49m\u001b[39m\\\u001b[39;49m\u001b[39mUsers\u001b[39;49m\u001b[39m\\\u001b[39;49m\u001b[39mjuanm\u001b[39;49m\u001b[39m\\\u001b[39;49m\u001b[39mcreds\u001b[39;49m\u001b[39m\\\u001b[39;49m\u001b[39mpwd_redshift.txt\u001b[39;49m\u001b[39m\"\u001b[39;49m,\u001b[39m'\u001b[39;49m\u001b[39mr\u001b[39;49m\u001b[39m'\u001b[39;49m) \u001b[39mas\u001b[39;00m f:\n\u001b[0;32m      2\u001b[0m     pwd\u001b[39m=\u001b[39m f\u001b[39m.\u001b[39mread()\n\u001b[0;32m      4\u001b[0m connection_params \u001b[39m=\u001b[39m \u001b[39mdict\u001b[39m(\n\u001b[0;32m      5\u001b[0m         host\u001b[39m=\u001b[39m\u001b[39m'\u001b[39m\u001b[39mdata-engineer-cluster.cyhh5bfevlmn.us-east-1.redshift.amazonaws.com\u001b[39m\u001b[39m'\u001b[39m\n\u001b[0;32m      6\u001b[0m         , dbname\u001b[39m=\u001b[39m\u001b[39m'\u001b[39m\u001b[39mdata-engineer-database\u001b[39m\u001b[39m'\u001b[39m\n\u001b[1;32m   (...)\u001b[0m\n\u001b[0;32m      9\u001b[0m         , port\u001b[39m=\u001b[39m\u001b[39m'\u001b[39m\u001b[39m5439\u001b[39m\u001b[39m'\u001b[39m\n\u001b[0;32m     10\u001b[0m )\n",
      "File \u001b[1;32mc:\\Users\\Juan\\Anaconda3\\envs\\coder-de\\Lib\\site-packages\\IPython\\core\\interactiveshell.py:286\u001b[0m, in \u001b[0;36m_modified_open\u001b[1;34m(file, *args, **kwargs)\u001b[0m\n\u001b[0;32m    279\u001b[0m \u001b[39mif\u001b[39;00m file \u001b[39min\u001b[39;00m {\u001b[39m0\u001b[39m, \u001b[39m1\u001b[39m, \u001b[39m2\u001b[39m}:\n\u001b[0;32m    280\u001b[0m     \u001b[39mraise\u001b[39;00m \u001b[39mValueError\u001b[39;00m(\n\u001b[0;32m    281\u001b[0m         \u001b[39mf\u001b[39m\u001b[39m\"\u001b[39m\u001b[39mIPython won\u001b[39m\u001b[39m'\u001b[39m\u001b[39mt let you open fd=\u001b[39m\u001b[39m{\u001b[39;00mfile\u001b[39m}\u001b[39;00m\u001b[39m by default \u001b[39m\u001b[39m\"\u001b[39m\n\u001b[0;32m    282\u001b[0m         \u001b[39m\"\u001b[39m\u001b[39mas it is likely to crash IPython. If you know what you are doing, \u001b[39m\u001b[39m\"\u001b[39m\n\u001b[0;32m    283\u001b[0m         \u001b[39m\"\u001b[39m\u001b[39myou can use builtins\u001b[39m\u001b[39m'\u001b[39m\u001b[39m open.\u001b[39m\u001b[39m\"\u001b[39m\n\u001b[0;32m    284\u001b[0m     )\n\u001b[1;32m--> 286\u001b[0m \u001b[39mreturn\u001b[39;00m io_open(file, \u001b[39m*\u001b[39;49margs, \u001b[39m*\u001b[39;49m\u001b[39m*\u001b[39;49mkwargs)\n",
      "\u001b[1;31mFileNotFoundError\u001b[0m: [Errno 2] No such file or directory: 'C:\\\\Users\\\\juanm\\\\creds\\\\pwd_redshift.txt'"
     ]
    }
   ],
   "source": [
    "import psycopg2\n",
    "import dotenv\n",
    "import os\n",
    "\n",
    "from os.path import expanduser\n",
    "home = expanduser(\"~\")\n",
    "\n",
    "dotenv.load_dotenv(fr\"{home}\\creds\\local_postgres.txt\")\n",
    "\n",
    "connection_params = dict(\n",
    "        host=os.getenv('host')\n",
    "        , dbname=os.getenv('dbname')\n",
    "        , user=os.getenv('user')\n",
    "        , password=os.getenv('password')\n",
    "        , port=os.getenv('port')\n",
    ")\n",
    "\n",
    "\n",
    "try:\n",
    "    conn = psycopg2.connect(\n",
    "        **connection_params\n",
    "    )\n",
    "    print(\"Connected to Redshift successfully!\")\n",
    "    \n",
    "except Exception as e:\n",
    "    print(\"Unable to connect to Redshift.\")\n",
    "    print(e)"
   ]
  },
  {
   "attachments": {},
   "cell_type": "markdown",
   "metadata": {},
   "source": [
    "# EXTRACT"
   ]
  },
  {
   "cell_type": "code",
   "execution_count": 13,
   "metadata": {},
   "outputs": [],
   "source": [
    "# Setup the parameters for the data to be fetched\n",
    "ticker_info = dict(ticker_symbol = 'AAPL', data_source='Yahoo Finance', source_type = 'Platform', interval='1d', start_date = '2023-01-01', end_date = None)\n"
   ]
  },
  {
   "cell_type": "code",
   "execution_count": 14,
   "metadata": {},
   "outputs": [
    {
     "name": "stdout",
     "output_type": "stream",
     "text": [
      "[*********************100%%**********************]  1 of 1 completed\n"
     ]
    },
    {
     "data": {
      "text/html": [
       "<div>\n",
       "<style scoped>\n",
       "    .dataframe tbody tr th:only-of-type {\n",
       "        vertical-align: middle;\n",
       "    }\n",
       "\n",
       "    .dataframe tbody tr th {\n",
       "        vertical-align: top;\n",
       "    }\n",
       "\n",
       "    .dataframe thead th {\n",
       "        text-align: right;\n",
       "    }\n",
       "</style>\n",
       "<table border=\"1\" class=\"dataframe\">\n",
       "  <thead>\n",
       "    <tr style=\"text-align: right;\">\n",
       "      <th></th>\n",
       "      <th>Open</th>\n",
       "      <th>High</th>\n",
       "      <th>Low</th>\n",
       "      <th>Close</th>\n",
       "      <th>Adj Close</th>\n",
       "      <th>Volume</th>\n",
       "    </tr>\n",
       "    <tr>\n",
       "      <th>Date</th>\n",
       "      <th></th>\n",
       "      <th></th>\n",
       "      <th></th>\n",
       "      <th></th>\n",
       "      <th></th>\n",
       "      <th></th>\n",
       "    </tr>\n",
       "  </thead>\n",
       "  <tbody>\n",
       "    <tr>\n",
       "      <th>2023-01-03</th>\n",
       "      <td>130.279999</td>\n",
       "      <td>130.899994</td>\n",
       "      <td>124.169998</td>\n",
       "      <td>125.070000</td>\n",
       "      <td>124.538658</td>\n",
       "      <td>112117500</td>\n",
       "    </tr>\n",
       "    <tr>\n",
       "      <th>2023-01-04</th>\n",
       "      <td>126.889999</td>\n",
       "      <td>128.660004</td>\n",
       "      <td>125.080002</td>\n",
       "      <td>126.360001</td>\n",
       "      <td>125.823189</td>\n",
       "      <td>89113600</td>\n",
       "    </tr>\n",
       "    <tr>\n",
       "      <th>2023-01-05</th>\n",
       "      <td>127.129997</td>\n",
       "      <td>127.769997</td>\n",
       "      <td>124.760002</td>\n",
       "      <td>125.019997</td>\n",
       "      <td>124.488876</td>\n",
       "      <td>80962700</td>\n",
       "    </tr>\n",
       "    <tr>\n",
       "      <th>2023-01-06</th>\n",
       "      <td>126.010002</td>\n",
       "      <td>130.289993</td>\n",
       "      <td>124.889999</td>\n",
       "      <td>129.619995</td>\n",
       "      <td>129.069321</td>\n",
       "      <td>87754700</td>\n",
       "    </tr>\n",
       "    <tr>\n",
       "      <th>2023-01-09</th>\n",
       "      <td>130.470001</td>\n",
       "      <td>133.410004</td>\n",
       "      <td>129.889999</td>\n",
       "      <td>130.149994</td>\n",
       "      <td>129.597061</td>\n",
       "      <td>70790800</td>\n",
       "    </tr>\n",
       "  </tbody>\n",
       "</table>\n",
       "</div>"
      ],
      "text/plain": [
       "                  Open        High         Low       Close   Adj Close  \\\n",
       "Date                                                                     \n",
       "2023-01-03  130.279999  130.899994  124.169998  125.070000  124.538658   \n",
       "2023-01-04  126.889999  128.660004  125.080002  126.360001  125.823189   \n",
       "2023-01-05  127.129997  127.769997  124.760002  125.019997  124.488876   \n",
       "2023-01-06  126.010002  130.289993  124.889999  129.619995  129.069321   \n",
       "2023-01-09  130.470001  133.410004  129.889999  130.149994  129.597061   \n",
       "\n",
       "               Volume  \n",
       "Date                   \n",
       "2023-01-03  112117500  \n",
       "2023-01-04   89113600  \n",
       "2023-01-05   80962700  \n",
       "2023-01-06   87754700  \n",
       "2023-01-09   70790800  "
      ]
     },
     "execution_count": 14,
     "metadata": {},
     "output_type": "execute_result"
    }
   ],
   "source": [
    "\n",
    "# Fetch data for Apple Inc. with a daily interval\n",
    "data = yf.download(ticker_info['ticker_symbol'], interval=ticker_info['interval'], start=ticker_info['start_date'], end=ticker_info['end_date'])\n",
    "\n",
    "# Display the data\n",
    "data.head()"
   ]
  },
  {
   "cell_type": "code",
   "execution_count": 4,
   "metadata": {},
   "outputs": [],
   "source": [
    "# with open(r\"C:\\Users\\juanm\\creds\\alpha_vantage.txt\",'r') as f:\n",
    "#     alpha_vantage_api_key= f.read()"
   ]
  },
  {
   "cell_type": "code",
   "execution_count": 15,
   "metadata": {},
   "outputs": [],
   "source": [
    "# import requests\n",
    "\n",
    "# def get_alpha_vantage_data(symbol, api_key):\n",
    "#     base_url = \"https://www.alphavantage.co/query\"\n",
    "#     function = \"TIME_SERIES_DAILY\"\n",
    "#     output_size = \"compact\"  # Use \"full\" for the complete dataset\n",
    "    \n",
    "#     params = {\n",
    "#         \"function\": function,\n",
    "#         \"symbol\": symbol,\n",
    "#         \"apikey\": api_key,\n",
    "#         \"outputsize\": output_size\n",
    "#     }\n",
    "    \n",
    "#     response = requests.get(base_url, params=params)\n",
    "    \n",
    "#     if response.status_code == 200:\n",
    "#         return response.json()\n",
    "#     else:\n",
    "#         return None\n"
   ]
  },
  {
   "cell_type": "code",
   "execution_count": 22,
   "metadata": {},
   "outputs": [
    {
     "data": {
      "text/html": [
       "<div>\n",
       "<style scoped>\n",
       "    .dataframe tbody tr th:only-of-type {\n",
       "        vertical-align: middle;\n",
       "    }\n",
       "\n",
       "    .dataframe tbody tr th {\n",
       "        vertical-align: top;\n",
       "    }\n",
       "\n",
       "    .dataframe thead th {\n",
       "        text-align: right;\n",
       "    }\n",
       "</style>\n",
       "<table border=\"1\" class=\"dataframe\">\n",
       "  <thead>\n",
       "    <tr style=\"text-align: right;\">\n",
       "      <th></th>\n",
       "      <th>open</th>\n",
       "      <th>high</th>\n",
       "      <th>low</th>\n",
       "      <th>close</th>\n",
       "      <th>volume</th>\n",
       "    </tr>\n",
       "  </thead>\n",
       "  <tbody>\n",
       "    <tr>\n",
       "      <th>2023-10-16</th>\n",
       "      <td>176.7500</td>\n",
       "      <td>179.0750</td>\n",
       "      <td>176.5100</td>\n",
       "      <td>178.7200</td>\n",
       "      <td>52170957</td>\n",
       "    </tr>\n",
       "    <tr>\n",
       "      <th>2023-10-13</th>\n",
       "      <td>181.4200</td>\n",
       "      <td>181.9300</td>\n",
       "      <td>178.1400</td>\n",
       "      <td>178.8500</td>\n",
       "      <td>51456082</td>\n",
       "    </tr>\n",
       "    <tr>\n",
       "      <th>2023-10-12</th>\n",
       "      <td>180.0700</td>\n",
       "      <td>182.3400</td>\n",
       "      <td>179.0400</td>\n",
       "      <td>180.7100</td>\n",
       "      <td>56743119</td>\n",
       "    </tr>\n",
       "    <tr>\n",
       "      <th>2023-10-11</th>\n",
       "      <td>178.2000</td>\n",
       "      <td>179.8500</td>\n",
       "      <td>177.6000</td>\n",
       "      <td>179.8000</td>\n",
       "      <td>47551098</td>\n",
       "    </tr>\n",
       "    <tr>\n",
       "      <th>2023-10-10</th>\n",
       "      <td>178.1000</td>\n",
       "      <td>179.7200</td>\n",
       "      <td>177.9500</td>\n",
       "      <td>178.3900</td>\n",
       "      <td>43698019</td>\n",
       "    </tr>\n",
       "    <tr>\n",
       "      <th>...</th>\n",
       "      <td>...</td>\n",
       "      <td>...</td>\n",
       "      <td>...</td>\n",
       "      <td>...</td>\n",
       "      <td>...</td>\n",
       "    </tr>\n",
       "    <tr>\n",
       "      <th>2023-05-31</th>\n",
       "      <td>177.3250</td>\n",
       "      <td>179.3500</td>\n",
       "      <td>176.7600</td>\n",
       "      <td>177.2500</td>\n",
       "      <td>99313268</td>\n",
       "    </tr>\n",
       "    <tr>\n",
       "      <th>2023-05-30</th>\n",
       "      <td>176.9600</td>\n",
       "      <td>178.9900</td>\n",
       "      <td>176.5700</td>\n",
       "      <td>177.3000</td>\n",
       "      <td>55964401</td>\n",
       "    </tr>\n",
       "    <tr>\n",
       "      <th>2023-05-26</th>\n",
       "      <td>173.3200</td>\n",
       "      <td>175.7700</td>\n",
       "      <td>173.1100</td>\n",
       "      <td>175.4300</td>\n",
       "      <td>54834975</td>\n",
       "    </tr>\n",
       "    <tr>\n",
       "      <th>2023-05-25</th>\n",
       "      <td>172.4100</td>\n",
       "      <td>173.8950</td>\n",
       "      <td>171.6900</td>\n",
       "      <td>172.9900</td>\n",
       "      <td>56058258</td>\n",
       "    </tr>\n",
       "    <tr>\n",
       "      <th>2023-05-24</th>\n",
       "      <td>171.0900</td>\n",
       "      <td>172.4183</td>\n",
       "      <td>170.5200</td>\n",
       "      <td>171.8400</td>\n",
       "      <td>45143488</td>\n",
       "    </tr>\n",
       "  </tbody>\n",
       "</table>\n",
       "<p>100 rows × 5 columns</p>\n",
       "</div>"
      ],
      "text/plain": [
       "                open      high       low     close    volume\n",
       "2023-10-16  176.7500  179.0750  176.5100  178.7200  52170957\n",
       "2023-10-13  181.4200  181.9300  178.1400  178.8500  51456082\n",
       "2023-10-12  180.0700  182.3400  179.0400  180.7100  56743119\n",
       "2023-10-11  178.2000  179.8500  177.6000  179.8000  47551098\n",
       "2023-10-10  178.1000  179.7200  177.9500  178.3900  43698019\n",
       "...              ...       ...       ...       ...       ...\n",
       "2023-05-31  177.3250  179.3500  176.7600  177.2500  99313268\n",
       "2023-05-30  176.9600  178.9900  176.5700  177.3000  55964401\n",
       "2023-05-26  173.3200  175.7700  173.1100  175.4300  54834975\n",
       "2023-05-25  172.4100  173.8950  171.6900  172.9900  56058258\n",
       "2023-05-24  171.0900  172.4183  170.5200  171.8400  45143488\n",
       "\n",
       "[100 rows x 5 columns]"
      ]
     },
     "execution_count": 22,
     "metadata": {},
     "output_type": "execute_result"
    }
   ],
   "source": [
    "# data = get_alpha_vantage_data(\"AAPL\", alpha_vantage_api_key)\n",
    "\n",
    "# # Convert the nested dictionary to a DataFrame\n",
    "# data = pd.DataFrame(data['Time Series (Daily)']).T\n",
    "\n",
    "# # Rename the columns for clarity\n",
    "# data.columns = ['open', 'high', 'low', 'close', 'volume']\n",
    "# data"
   ]
  },
  {
   "attachments": {},
   "cell_type": "markdown",
   "metadata": {},
   "source": [
    "# TRANSFORM"
   ]
  },
  {
   "cell_type": "code",
   "execution_count": 13,
   "metadata": {},
   "outputs": [],
   "source": [
    "def get_or_create_record(conn, search_value, table_name, entity):\n",
    "    # Check if data source exists\n",
    "    with conn.cursor() as cur:\n",
    "        cur.execute(f\"\"\"\n",
    "            SELECT {entity}_id FROM {table_name} WHERE {entity}_name = '{search_value}';\n",
    "            \"\"\")\n",
    "        try:\n",
    "            record_id = cur.fetchone()[0]\n",
    "        except TypeError:\n",
    "            record_id = None\n",
    "    if not record_id:\n",
    "        # Insert new data source\n",
    "        with conn.cursor() as cur:\n",
    "            cur.execute(f\"\"\"\n",
    "                INSERT INTO {table_name} ({entity}_name) VALUES ('{search_value}');\n",
    "            \"\"\")\n",
    "            cur.execute(f\"\"\"\n",
    "                SELECT MAX({entity}_id) FROM {table_name}\n",
    "            \"\"\")\n",
    "            record_id = cur.fetchone()[0]\n",
    "            conn.commit()\n",
    "    return record_id"
   ]
  },
  {
   "cell_type": "code",
   "execution_count": 14,
   "metadata": {},
   "outputs": [
    {
     "name": "stdout",
     "output_type": "stream",
     "text": [
      "4 2 3\n"
     ]
    }
   ],
   "source": [
    "asset_id = get_or_create_record(conn, ticker_info['ticker_symbol'], \"assets\", \"asset\")\n",
    "data_source_id = get_or_create_record(conn, ticker_info['data_source'], \"data_sources\", \"source\")\n",
    "source_type_id = get_or_create_record(conn, ticker_info['source_type'], \"source_types\", \"type\")\n",
    "print(asset_id, source_type_id, data_source_id)"
   ]
  },
  {
   "attachments": {},
   "cell_type": "markdown",
   "metadata": {},
   "source": [
    "# LOAD"
   ]
  },
  {
   "cell_type": "code",
   "execution_count": 15,
   "metadata": {},
   "outputs": [],
   "source": [
    "data.reset_index(inplace=True)\n",
    "data.columns = [c.lower().replace(' ', '_') for c in data.columns]\n",
    "data.rename(columns={'date':'timestamp'}, inplace=True)\n",
    "data['asset_id'] = asset_id\n",
    "data['source_id'] = data_source_id"
   ]
  },
  {
   "cell_type": "code",
   "execution_count": 16,
   "metadata": {},
   "outputs": [],
   "source": [
    "from psycopg2.extras import execute_values\n",
    "\n",
    "def load_redshift(conn, table_name, dataframe):\n",
    "    with conn.cursor() as curs:\n",
    "        values = [tuple(x) for x in dataframe.to_numpy()]\n",
    "        cols = '\"'+'''\", \"'''.join(data.columns)+'\"'\n",
    "        # define INSERT INTO statement\n",
    "        insert_sql = f\"INSERT INTO {table_name} ({cols}) VALUES %s\"\n",
    "        # Execute the transaction to insert the data\n",
    "        curs.execute(\"BEGIN\")\n",
    "        execute_values(curs, insert_sql, values)\n",
    "        curs.execute(\"COMMIT\")\n",
    "    print('Proceso terminado')"
   ]
  },
  {
   "cell_type": "code",
   "execution_count": 17,
   "metadata": {},
   "outputs": [
    {
     "name": "stdout",
     "output_type": "stream",
     "text": [
      "Proceso terminado\n"
     ]
    }
   ],
   "source": [
    "load_redshift(conn, 'ohlcv_data', data)"
   ]
  },
  {
   "cell_type": "code",
   "execution_count": 94,
   "metadata": {},
   "outputs": [],
   "source": [
    "# with conn.cursor() as curs:\n",
    "#     curs.execute(\"ROLLBACK\")\n",
    "#     conn.commit()"
   ]
  }
 ],
 "metadata": {
  "kernelspec": {
   "display_name": "base",
   "language": "python",
   "name": "python3"
  },
  "language_info": {
   "codemirror_mode": {
    "name": "ipython",
    "version": 3
   },
   "file_extension": ".py",
   "mimetype": "text/x-python",
   "name": "python",
   "nbconvert_exporter": "python",
   "pygments_lexer": "ipython3",
   "version": "3.9.13"
  },
  "orig_nbformat": 4,
  "vscode": {
   "interpreter": {
    "hash": "5efa0532aa452161f57b6202e0cfce6e59a262370b2496dc499a0b71d204eaca"
   }
  }
 },
 "nbformat": 4,
 "nbformat_minor": 2
}
