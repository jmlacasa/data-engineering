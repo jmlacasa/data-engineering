{
 "cells": [
  {
   "cell_type": "code",
   "execution_count": 21,
   "metadata": {},
   "outputs": [],
   "source": [
    "import pytrends\n",
    "from pytrends.request import TrendReq\n",
    "import pandas as pd\n",
    "from tqdm import tqdm"
   ]
  },
  {
   "cell_type": "code",
   "execution_count": 5,
   "metadata": {},
   "outputs": [
    {
     "name": "stdout",
     "output_type": "stream",
     "text": [
      "        date  Sea Level  Temperatures  Carbon Dioxide  Global Warming  \\\n",
      "0 2018-10-28          0            25              48              23   \n",
      "1 2018-11-04          0             0              49               0   \n",
      "2 2018-11-11         41            41              23              48   \n",
      "3 2018-11-18          0             0               0              32   \n",
      "4 2018-11-25          0             0              27              53   \n",
      "\n",
      "   isPartial country  \n",
      "0      False      AR  \n",
      "1      False      AR  \n",
      "2      False      AR  \n",
      "3      False      AR  \n",
      "4      False      AR  \n",
      "        date  Sea Level  Temperatures  Carbon Dioxide  Global Warming  \\\n",
      "0 2018-10-28         11            25              26              20   \n",
      "1 2018-11-04         11            25              26              19   \n",
      "2 2018-11-11         12            32              26              23   \n",
      "3 2018-11-18          9            32              16              19   \n",
      "4 2018-11-25         13            27              29              34   \n",
      "\n",
      "   isPartial country  \n",
      "0      False      US  \n",
      "1      False      US  \n",
      "2      False      US  \n",
      "3      False      US  \n",
      "4      False      US  \n",
      "        date  Sea Level  Temperatures  Carbon Dioxide  Global Warming  \\\n",
      "0 2018-10-28          7            18              10               9   \n",
      "1 2018-11-04          5            15              11               9   \n",
      "2 2018-11-11          6            15              10               9   \n",
      "3 2018-11-18          6            18              10               9   \n",
      "4 2018-11-25          6            15              11              10   \n",
      "\n",
      "   isPartial country  \n",
      "0      False      GB  \n",
      "1      False      GB  \n",
      "2      False      GB  \n",
      "3      False      GB  \n",
      "4      False      GB  \n",
      "        date  Sea Level  Temperatures  Carbon Dioxide  Global Warming  \\\n",
      "0 2018-10-28         16            47               7              35   \n",
      "1 2018-11-04         21            27              19              40   \n",
      "2 2018-11-11         14            50              18              45   \n",
      "3 2018-11-18         16            49               7              48   \n",
      "4 2018-11-25         27            37              19              50   \n",
      "\n",
      "   isPartial country  \n",
      "0      False      DE  \n",
      "1      False      DE  \n",
      "2      False      DE  \n",
      "3      False      DE  \n",
      "4      False      DE  \n",
      "        date  Sea Level  Temperatures  Carbon Dioxide  Global Warming  \\\n",
      "0 2018-10-28         31            46              35              44   \n",
      "1 2018-11-04         26            45              35              41   \n",
      "2 2018-11-11         25            42              34              45   \n",
      "3 2018-11-18         24            38              27              40   \n",
      "4 2018-11-25         27            44              21              48   \n",
      "\n",
      "   isPartial country  \n",
      "0      False      AU  \n",
      "1      False      AU  \n",
      "2      False      AU  \n",
      "3      False      AU  \n",
      "4      False      AU  \n"
     ]
    }
   ],
   "source": [
    "# query trend information for the following keywords\n",
    "keyword_list = ['Sea Level','Temperatures','Carbon Dioxide','Global Warming']#, 'Weather']\n",
    "country_list = ['AR', 'US', 'GB', 'DE', 'AU']\n",
    "\n",
    "# build the connection\n",
    "pytrend = TrendReq(hl='en-US', tz=360)\n",
    "\n",
    "# Initialize an empty DataFrame to store the results\n",
    "results_df = None\n",
    "\n",
    "# get the trend information\n",
    "for country in country_list:\n",
    "\n",
    "    pytrend.build_payload(kw_list=keyword_list, timeframe = 'today 5-y', geo=country)\n",
    "    temp_df = pytrend.interest_over_time()\n",
    "    temp_df['country'] = country\n",
    "    temp_df.reset_index(inplace=True)\n",
    "\n",
    "    if results_df is None:\n",
    "        results_df = temp_df\n",
    "    else:\n",
    "        results_df = pd.concat([results_df, temp_df], axis=0)\n",
    "\n",
    "    print(temp_df.head())"
   ]
  },
  {
   "attachments": {},
   "cell_type": "markdown",
   "metadata": {},
   "source": [
    "# CONNECT to REDSHIFT"
   ]
  },
  {
   "cell_type": "code",
   "execution_count": 18,
   "metadata": {},
   "outputs": [],
   "source": [
    "from sqlalchemy import create_engine\n",
    "import psycopg2\n",
    "\n",
    "from os.path import expanduser\n",
    "home = expanduser(\"~\")\n",
    "\n",
    "with open(fr\"{home}\\creds\\pwd_redshift.txt\",'r') as f:\n",
    "    pwd= f.read()\n",
    "\n",
    "connection_params = dict(\n",
    "        host='data-engineer-cluster.cyhh5bfevlmn.us-east-1.redshift.amazonaws.com'\n",
    "        , dbname='data-engineer-database'\n",
    "        , user='juanmlacasa_coderhouse'\n",
    "        , password=pwd\n",
    "        , port='5439'\n",
    ")\n",
    "\n",
    "engine = create_engine(f'postgresql+psycopg2://{connection_params[\"user\"]}:{connection_params[\"password\"]}@{connection_params[\"host\"]}:{connection_params[\"port\"]}/{connection_params[\"dbname\"]}')"
   ]
  },
  {
   "cell_type": "code",
   "execution_count": 19,
   "metadata": {},
   "outputs": [
    {
     "name": "stderr",
     "output_type": "stream",
     "text": [
      "C:\\Users\\juanm\\AppData\\Local\\Temp\\ipykernel_18520\\770884221.py:2: UserWarning: The provided table name 'trends_AR' is not found exactly as such in the database after writing the table, possibly due to case sensitivity issues. Consider using lower case table names.\n",
      "  results_df[results_df['country']==country_code].drop(['country', 'isPartial'], axis=1).to_sql(f'trends_{country_code}', engine, schema='juanmlacasa_coderhouse', if_exists='replace', index=False)\n",
      "C:\\Users\\juanm\\AppData\\Local\\Temp\\ipykernel_18520\\770884221.py:2: UserWarning: The provided table name 'trends_US' is not found exactly as such in the database after writing the table, possibly due to case sensitivity issues. Consider using lower case table names.\n",
      "  results_df[results_df['country']==country_code].drop(['country', 'isPartial'], axis=1).to_sql(f'trends_{country_code}', engine, schema='juanmlacasa_coderhouse', if_exists='replace', index=False)\n",
      "C:\\Users\\juanm\\AppData\\Local\\Temp\\ipykernel_18520\\770884221.py:2: UserWarning: The provided table name 'trends_GB' is not found exactly as such in the database after writing the table, possibly due to case sensitivity issues. Consider using lower case table names.\n",
      "  results_df[results_df['country']==country_code].drop(['country', 'isPartial'], axis=1).to_sql(f'trends_{country_code}', engine, schema='juanmlacasa_coderhouse', if_exists='replace', index=False)\n",
      "C:\\Users\\juanm\\AppData\\Local\\Temp\\ipykernel_18520\\770884221.py:2: UserWarning: The provided table name 'trends_DE' is not found exactly as such in the database after writing the table, possibly due to case sensitivity issues. Consider using lower case table names.\n",
      "  results_df[results_df['country']==country_code].drop(['country', 'isPartial'], axis=1).to_sql(f'trends_{country_code}', engine, schema='juanmlacasa_coderhouse', if_exists='replace', index=False)\n",
      "C:\\Users\\juanm\\AppData\\Local\\Temp\\ipykernel_18520\\770884221.py:2: UserWarning: The provided table name 'trends_AU' is not found exactly as such in the database after writing the table, possibly due to case sensitivity issues. Consider using lower case table names.\n",
      "  results_df[results_df['country']==country_code].drop(['country', 'isPartial'], axis=1).to_sql(f'trends_{country_code}', engine, schema='juanmlacasa_coderhouse', if_exists='replace', index=False)\n"
     ]
    }
   ],
   "source": [
    "for country_code in tqdm(country_list):\n",
    "    results_df[results_df['country']==country_code].drop(['country', 'isPartial'], axis=1).to_sql(f'trends_{country_code}'.lower(), engine, schema='juanmlacasa_coderhouse', if_exists='replace', index=False)"
   ]
  }
 ],
 "metadata": {
  "kernelspec": {
   "display_name": "coder-de",
   "language": "python",
   "name": "python3"
  },
  "language_info": {
   "codemirror_mode": {
    "name": "ipython",
    "version": 3
   },
   "file_extension": ".py",
   "mimetype": "text/x-python",
   "name": "python",
   "nbconvert_exporter": "python",
   "pygments_lexer": "ipython3",
   "version": "3.11.5"
  },
  "orig_nbformat": 4,
  "vscode": {
   "interpreter": {
    "hash": "8a0f6c032de7be79d5c7f13f397ddb255c643e6cfe5a1086054ff4a4b4b03150"
   }
  }
 },
 "nbformat": 4,
 "nbformat_minor": 2
}
