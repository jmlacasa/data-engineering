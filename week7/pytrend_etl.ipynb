{
 "cells": [
  {
   "cell_type": "code",
   "execution_count": 2,
   "metadata": {},
   "outputs": [],
   "source": [
    "import pytrends\n",
    "from pytrends.request import TrendReq\n",
    "import pandas as pd\n",
    "\n",
    "import matplotlib.pyplot as plt"
   ]
  },
  {
   "cell_type": "code",
   "execution_count": 3,
   "metadata": {},
   "outputs": [
    {
     "name": "stdout",
     "output_type": "stream",
     "text": [
      "            Sea Level  Temperatures  Carbon Dioxide  Global Warming  \\\n",
      "date                                                                  \n",
      "2018-10-28          0            24              46              22   \n",
      "2018-11-04          0             0              47               0   \n",
      "2018-11-11         40            39              22              46   \n",
      "2018-11-18          0             0               0              31   \n",
      "2018-11-25          0             0              26              51   \n",
      "\n",
      "            isPartial country  \n",
      "date                           \n",
      "2018-10-28      False      AR  \n",
      "2018-11-04      False      AR  \n",
      "2018-11-11      False      AR  \n",
      "2018-11-18      False      AR  \n",
      "2018-11-25      False      AR  \n",
      "            Sea Level  Temperatures  Carbon Dioxide  Global Warming  \\\n",
      "date                                                                  \n",
      "2018-10-28         11            25              26              20   \n",
      "2018-11-04         11            25              26              19   \n",
      "2018-11-11         12            31              25              23   \n",
      "2018-11-18          9            31              16              19   \n",
      "2018-11-25         13            27              29              34   \n",
      "\n",
      "            isPartial country  \n",
      "date                           \n",
      "2018-10-28      False      US  \n",
      "2018-11-04      False      US  \n",
      "2018-11-11      False      US  \n",
      "2018-11-18      False      US  \n",
      "2018-11-25      False      US  \n",
      "            Sea Level  Temperatures  Carbon Dioxide  Global Warming  \\\n",
      "date                                                                  \n",
      "2018-10-28          7            18              10               9   \n",
      "2018-11-04          5            15              11               9   \n",
      "2018-11-11          6            15              10               9   \n",
      "2018-11-18          6            18              10               9   \n",
      "2018-11-25          6            15              11              10   \n",
      "\n",
      "            isPartial country  \n",
      "date                           \n",
      "2018-10-28      False      GB  \n",
      "2018-11-04      False      GB  \n",
      "2018-11-11      False      GB  \n",
      "2018-11-18      False      GB  \n",
      "2018-11-25      False      GB  \n",
      "            Sea Level  Temperatures  Carbon Dioxide  Global Warming  \\\n",
      "date                                                                  \n",
      "2018-10-28         16            47               7              35   \n",
      "2018-11-04         21            27              19              40   \n",
      "2018-11-11         14            50              19              46   \n",
      "2018-11-18         16            49               7              48   \n",
      "2018-11-25         27            37              19              50   \n",
      "\n",
      "            isPartial country  \n",
      "date                           \n",
      "2018-10-28      False      DE  \n",
      "2018-11-04      False      DE  \n",
      "2018-11-11      False      DE  \n",
      "2018-11-18      False      DE  \n",
      "2018-11-25      False      DE  \n",
      "            Sea Level  Temperatures  Carbon Dioxide  Global Warming  \\\n",
      "date                                                                  \n",
      "2018-10-28         31            46              35              44   \n",
      "2018-11-04         26            45              35              41   \n",
      "2018-11-11         25            42              34              45   \n",
      "2018-11-18         24            38              27              40   \n",
      "2018-11-25         27            44              21              48   \n",
      "\n",
      "            isPartial country  \n",
      "date                           \n",
      "2018-10-28      False      AU  \n",
      "2018-11-04      False      AU  \n",
      "2018-11-11      False      AU  \n",
      "2018-11-18      False      AU  \n",
      "2018-11-25      False      AU  \n"
     ]
    }
   ],
   "source": [
    "# query trend information for the following keywords\n",
    "keyword_list = ['Sea Level','Temperatures','Carbon Dioxide','Global Warming']#, 'Weather']\n",
    "country_list = ['AR', 'US', 'GB', 'DE', 'AU']\n",
    "\n",
    "# build the connection\n",
    "pytrend = TrendReq(hl='en-US', tz=360)\n",
    "\n",
    "# Initialize an empty DataFrame to store the results\n",
    "results_df = None\n",
    "\n",
    "# get the trend information\n",
    "for country in country_list:\n",
    "\n",
    "    pytrend.build_payload(kw_list=keyword_list, timeframe = 'today 5-y', geo=country)\n",
    "    globals()[f'df_{country}'] = pytrend.interest_over_time()\n",
    "    globals()[f'df_{country}']['country'] = country\n",
    "\n",
    "    print(globals()[f'df_{country}'].head())"
   ]
  },
  {
   "attachments": {},
   "cell_type": "markdown",
   "metadata": {},
   "source": [
    "# CONNECT to REDSHIFT"
   ]
  },
  {
   "cell_type": "code",
   "execution_count": 15,
   "metadata": {},
   "outputs": [
    {
     "name": "stdout",
     "output_type": "stream",
     "text": [
      "Connected to Redshift successfully!\n"
     ]
    }
   ],
   "source": [
    "import psycopg2\n",
    "\n",
    "from os.path import expanduser\n",
    "home = expanduser(\"~\")\n",
    "\n",
    "with open(fr\"{home}\\creds\\pwd_redshift.txt\",'r') as f:\n",
    "    pwd= f.read()\n",
    "\n",
    "connection_params = dict(\n",
    "        host='data-engineer-cluster.cyhh5bfevlmn.us-east-1.redshift.amazonaws.com'\n",
    "        , dbname='data-engineer-database'\n",
    "        , user='juanmlacasa_coderhouse'\n",
    "        , password=pwd\n",
    "        , port='5439'\n",
    ")\n",
    "\n",
    "try:\n",
    "    conn = psycopg2.connect(\n",
    "        **connection_params\n",
    "    )\n",
    "    print(\"Connected to Redshift successfully!\")\n",
    "    \n",
    "except Exception as e:\n",
    "    print(\"Unable to connect to Redshift.\")\n",
    "    print(e)"
   ]
  },
  {
   "cell_type": "code",
   "execution_count": 14,
   "metadata": {},
   "outputs": [],
   "source": [
    "from sqlalchemy import create_engine\n",
    "engine = create_engine(f'postgresql+psycopg2://{connection_params[\"user\"]}:{connection_params[\"password\"]}@{connection_params[\"host\"]}:{connection_params[\"port\"]}/{connection_params[\"dbname\"]}')"
   ]
  },
  {
   "cell_type": "code",
   "execution_count": 12,
   "metadata": {},
   "outputs": [],
   "source": [
    "df = pd.read_sql_query('select * from assets', engine)"
   ]
  },
  {
   "cell_type": "code",
   "execution_count": null,
   "metadata": {},
   "outputs": [],
   "source": []
  }
 ],
 "metadata": {
  "kernelspec": {
   "display_name": "coder-de",
   "language": "python",
   "name": "python3"
  },
  "language_info": {
   "codemirror_mode": {
    "name": "ipython",
    "version": 3
   },
   "file_extension": ".py",
   "mimetype": "text/x-python",
   "name": "python",
   "nbconvert_exporter": "python",
   "pygments_lexer": "ipython3",
   "version": "3.11.6"
  },
  "orig_nbformat": 4,
  "vscode": {
   "interpreter": {
    "hash": "22ce8198df8e4d0e9b8a1e962c045f774824a11e949cea2dcf3efcafd58aab17"
   }
  }
 },
 "nbformat": 4,
 "nbformat_minor": 2
}
