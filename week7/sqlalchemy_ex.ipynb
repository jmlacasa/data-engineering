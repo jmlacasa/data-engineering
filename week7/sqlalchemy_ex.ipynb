{
 "cells": [
  {
   "cell_type": "code",
   "execution_count": 1,
   "metadata": {},
   "outputs": [],
   "source": [
    "import pandas as pd\n",
    "from tqdm import tqdm\n",
    "import os"
   ]
  },
  {
   "attachments": {},
   "cell_type": "markdown",
   "metadata": {},
   "source": [
    "# CONNECT to REDSHIFT"
   ]
  },
  {
   "cell_type": "code",
   "execution_count": 2,
   "metadata": {},
   "outputs": [
    {
     "data": {
      "text/plain": [
       "<sqlalchemy.engine.base.Connection at 0x1f9250d6e10>"
      ]
     },
     "execution_count": 2,
     "metadata": {},
     "output_type": "execute_result"
    }
   ],
   "source": [
    "from sqlalchemy import create_engine\n",
    "import psycopg2\n",
    "import dotenv\n",
    "\n",
    "from os.path import expanduser\n",
    "home = expanduser(\"~\")\n",
    "\n",
    "dotenv.load_dotenv(fr\"{home}\\creds\\local_postgres.txt\")\n",
    "\n",
    "connection_params = dict(\n",
    "        host=os.getenv('host')\n",
    "        , dbname=os.getenv('dbname')\n",
    "        , user=os.getenv('user')\n",
    "        , password=os.getenv('password')\n",
    "        , port=os.getenv('port')\n",
    ")\n",
    "\n",
    "week_schema = 'week7'\n",
    "\n",
    "engine = create_engine(f'postgresql+psycopg2://{os.getenv(\"user\")}:{os.getenv(\"password\")}@{os.getenv(\"host\")}:{os.getenv(\"port\")}/{os.getenv(\"dbname\")}')\n",
    "engine.connect()"
   ]
  },
  {
   "attachments": {},
   "cell_type": "markdown",
   "metadata": {},
   "source": [
    "# Read CSVs into dataframes and upload"
   ]
  },
  {
   "cell_type": "code",
   "execution_count": 3,
   "metadata": {},
   "outputs": [
    {
     "name": "stderr",
     "output_type": "stream",
     "text": [
      "100%|██████████| 12/12 [00:14<00:00,  1.24s/it]\n"
     ]
    }
   ],
   "source": [
    "# walk through Tablas subdirectory and read all csv files into list of dataframes\n",
    "df_dict = {}\n",
    "for filename in tqdm(os.listdir('Tablas')):\n",
    "    if filename.endswith('.csv'):\n",
    "        pretty_filename = filename[:-4]\n",
    "        df_dict[pretty_filename] = pd.read_csv('./Tablas/' + filename)\n",
    "        df_dict[pretty_filename].to_sql(pretty_filename, engine, index=False, if_exists='replace', schema=week_schema)"
   ]
  },
  {
   "cell_type": "code",
   "execution_count": 4,
   "metadata": {},
   "outputs": [
    {
     "data": {
      "text/plain": [
       "dict_keys(['countryregioncurrency', 'currencyrate', 'product', 'productcategory', 'productdescription', 'productmodelproductdescriptionculture', 'productreview', 'productsubcategory', 'salesorderdetail', 'salesorderheader', 'salesperson', 'salesterritory'])"
      ]
     },
     "execution_count": 4,
     "metadata": {},
     "output_type": "execute_result"
    }
   ],
   "source": [
    "df_dict.keys()"
   ]
  },
  {
   "cell_type": "code",
   "execution_count": 5,
   "metadata": {},
   "outputs": [],
   "source": [
    "\n",
    "stmt = f\"\"\"\n",
    "SELECT * \n",
    "FROM week7.product p \n",
    "INNER JOIN week7.productreview pr\n",
    "ON p.productid = pr.productid\n",
    "\n",
    "\"\"\"\n",
    "\n",
    "reviews = pd.read_sql_query(stmt, engine)\n"
   ]
  },
  {
   "cell_type": "code",
   "execution_count": 6,
   "metadata": {},
   "outputs": [
    {
     "data": {
      "text/html": [
       "<div>\n",
       "<style scoped>\n",
       "    .dataframe tbody tr th:only-of-type {\n",
       "        vertical-align: middle;\n",
       "    }\n",
       "\n",
       "    .dataframe tbody tr th {\n",
       "        vertical-align: top;\n",
       "    }\n",
       "\n",
       "    .dataframe thead th {\n",
       "        text-align: right;\n",
       "    }\n",
       "</style>\n",
       "<table border=\"1\" class=\"dataframe\">\n",
       "  <thead>\n",
       "    <tr style=\"text-align: right;\">\n",
       "      <th></th>\n",
       "      <th>salespersonid</th>\n",
       "      <th>total_sales</th>\n",
       "    </tr>\n",
       "  </thead>\n",
       "  <tbody>\n",
       "    <tr>\n",
       "      <th>0</th>\n",
       "      <td>276.0</td>\n",
       "      <td>1.036701e+07</td>\n",
       "    </tr>\n",
       "    <tr>\n",
       "      <th>1</th>\n",
       "      <td>277.0</td>\n",
       "      <td>1.006580e+07</td>\n",
       "    </tr>\n",
       "    <tr>\n",
       "      <th>2</th>\n",
       "      <td>275.0</td>\n",
       "      <td>9.293903e+06</td>\n",
       "    </tr>\n",
       "    <tr>\n",
       "      <th>3</th>\n",
       "      <td>289.0</td>\n",
       "      <td>8.503339e+06</td>\n",
       "    </tr>\n",
       "    <tr>\n",
       "      <th>4</th>\n",
       "      <td>279.0</td>\n",
       "      <td>7.171013e+06</td>\n",
       "    </tr>\n",
       "    <tr>\n",
       "      <th>5</th>\n",
       "      <td>281.0</td>\n",
       "      <td>6.427006e+06</td>\n",
       "    </tr>\n",
       "    <tr>\n",
       "      <th>6</th>\n",
       "      <td>282.0</td>\n",
       "      <td>5.926418e+06</td>\n",
       "    </tr>\n",
       "    <tr>\n",
       "      <th>7</th>\n",
       "      <td>290.0</td>\n",
       "      <td>4.509889e+06</td>\n",
       "    </tr>\n",
       "    <tr>\n",
       "      <th>8</th>\n",
       "      <td>283.0</td>\n",
       "      <td>3.729945e+06</td>\n",
       "    </tr>\n",
       "    <tr>\n",
       "      <th>9</th>\n",
       "      <td>278.0</td>\n",
       "      <td>3.609447e+06</td>\n",
       "    </tr>\n",
       "  </tbody>\n",
       "</table>\n",
       "</div>"
      ],
      "text/plain": [
       "   salespersonid   total_sales\n",
       "0          276.0  1.036701e+07\n",
       "1          277.0  1.006580e+07\n",
       "2          275.0  9.293903e+06\n",
       "3          289.0  8.503339e+06\n",
       "4          279.0  7.171013e+06\n",
       "5          281.0  6.427006e+06\n",
       "6          282.0  5.926418e+06\n",
       "7          290.0  4.509889e+06\n",
       "8          283.0  3.729945e+06\n",
       "9          278.0  3.609447e+06"
      ]
     },
     "execution_count": 6,
     "metadata": {},
     "output_type": "execute_result"
    }
   ],
   "source": [
    "# which are the top salesmen\n",
    "stmt = f\"\"\"\n",
    "SELECT soh.salespersonid, SUM(soh.subtotal) AS total_sales\n",
    "FROM week7.salesorderheader soh\n",
    "INNER JOIN week7.salesperson sp\n",
    "ON soh.salespersonid = sp.businessentityid\n",
    "\n",
    "GROUP BY soh.salespersonid\n",
    "ORDER BY total_sales DESC\n",
    "\"\"\"\n",
    "\n",
    "\n",
    "salesmen_sales = pd.read_sql_query(stmt, engine)\n",
    "salesmen_sales.head(10)\n"
   ]
  }
 ],
 "metadata": {
  "kernelspec": {
   "display_name": "coder-de",
   "language": "python",
   "name": "python3"
  },
  "language_info": {
   "codemirror_mode": {
    "name": "ipython",
    "version": 3
   },
   "file_extension": ".py",
   "mimetype": "text/x-python",
   "name": "python",
   "nbconvert_exporter": "python",
   "pygments_lexer": "ipython3",
   "version": "3.11.5"
  },
  "orig_nbformat": 4,
  "vscode": {
   "interpreter": {
    "hash": "8a0f6c032de7be79d5c7f13f397ddb255c643e6cfe5a1086054ff4a4b4b03150"
   }
  }
 },
 "nbformat": 4,
 "nbformat_minor": 2
}
