{
 "cells": [
  {
   "cell_type": "code",
   "execution_count": 3,
   "metadata": {},
   "outputs": [
    {
     "name": "stdout",
     "output_type": "stream",
     "text": [
      "The input is not an uneven number. Please try again\n",
      "The input is not an uneven number. Please try again\n",
      "The input is not an uneven number. Please try again\n",
      "The number 3 is uneven\n"
     ]
    }
   ],
   "source": [
    "# Ej 1\n",
    "\n",
    "success = False\n",
    "while not success:\n",
    "    input_num = input('input an uneven number: ')\n",
    "    try:\n",
    "        num = int(input_num)\n",
    "        if num % 2 == 0:\n",
    "            raise ValueError('The number is even')\n",
    "        else:\n",
    "            print(f'The number {num} is uneven')\n",
    "        success = True\n",
    "    except:\n",
    "        print('The input must be an uneven number. Please try again')\n"
   ]
  },
  {
   "cell_type": "code",
   "execution_count": 7,
   "metadata": {},
   "outputs": [],
   "source": [
    "# Ej 2\n",
    "\n",
    "length = input('input length of array: ')\n",
    "\n",
    "# ask for length numbers and perform arithmetic mean\n",
    "sum = 0\n",
    "for i in range(int(length)):\n",
    "    num = input('input integer number: ')\n",
    "    try:\n",
    "        num = int(num)\n",
    "        sum += num\n",
    "    except:\n",
    "        print('The input must be an integer. Please try again')\n",
    "\n",
    "print(f'The arithmetic mean is {sum/int(length)}')\n"
   ]
  },
  {
   "cell_type": "code",
   "execution_count": 10,
   "metadata": {},
   "outputs": [
    {
     "name": "stdout",
     "output_type": "stream",
     "text": [
      "[0, 1, 2, 3, 4, 5, 6, 7, 8, 9, 10]\n",
      "[-10, -9, -8, -7, -6, -5, -4, -3, -2, -1, 0]\n",
      "[0, 2, 4, 6, 8, 10, 12, 14, 16, 18, 20]\n",
      "[-19, -17, -15, -13, -11, -9, -7, -5, -3, -1]\n",
      "[0, 5, 10, 15, 20, 25, 30, 35, 40, 45, 50]\n"
     ]
    }
   ],
   "source": [
    "# Ej 3\n",
    "\n",
    "print(list(range(0,11)))\n",
    "print(list(range(-10,1)))\n",
    "print(list(range(0,21,2)))\n",
    "print(list(range(-19,0,2)))\n",
    "print(list(range(0,51,5)))"
   ]
  },
  {
   "cell_type": "code",
   "execution_count": 11,
   "metadata": {},
   "outputs": [
    {
     "name": "stdout",
     "output_type": "stream",
     "text": [
      "[-9, -7, -5, -3, -1]\n"
     ]
    }
   ],
   "source": [
    "# Ej 4\n",
    "def list_intersection(list1, list2):\n",
    "    return list(set(list1) & set(list2))\n",
    "\n",
    "print(list_intersection(list(range(-10,1)), list(range(-19,0,2))))"
   ]
  },
  {
   "cell_type": "code",
   "execution_count": 15,
   "metadata": {},
   "outputs": [
    {
     "name": "stdout",
     "output_type": "stream",
     "text": [
      "2550\n"
     ]
    }
   ],
   "source": [
    "# Ej 5\n",
    "sum = 0\n",
    "\n",
    "for i in range(0,101,2):\n",
    "    sum+=i\n",
    "print(sum)"
   ]
  },
  {
   "cell_type": "code",
   "execution_count": 18,
   "metadata": {},
   "outputs": [
    {
     "name": "stdout",
     "output_type": "stream",
     "text": [
      "3\n"
     ]
    }
   ],
   "source": [
    "# Ej 6\n",
    "def count_in_list(list, num):\n",
    "    return list.count(num)\n",
    "\n",
    "print(count_in_list([1,5,3,4,5,6,7,8,5,10], 5))"
   ]
  },
  {
   "attachments": {},
   "cell_type": "markdown",
   "metadata": {},
   "source": [
    "# SQL"
   ]
  },
  {
   "attachments": {},
   "cell_type": "markdown",
   "metadata": {},
   "source": [
    "```\n",
    "\n",
    "SELECT *\n",
    "FROM agents a\n",
    "WHERE UPPER(a.name) LIKE 'M%%' OR UPPER(a.name) LIKE '%%O'\n",
    "\n",
    "```"
   ]
  },
  {
   "attachments": {},
   "cell_type": "markdown",
   "metadata": {},
   "source": [
    "```\n",
    "\n",
    "SELECT DISTINCT c.occupation\n",
    "FROM customers c\n",
    "WHERE UPPER(c.occupation) LIKE '%%ENGINEER%%'\n",
    "ORDER BY c.occupation ASC\n",
    "\n",
    "```"
   ]
  },
  {
   "attachments": {},
   "cell_type": "markdown",
   "metadata": {},
   "source": [
    "```\n",
    "SELECT c.customerid\n",
    "    , c.name\n",
    "    , CASE\n",
    "        WHEN c.Age >30 THEN \"Sí\"\n",
    "        WHEN c.Age <= 30 THEN \"No\"\n",
    "        ELSE \"Missing Data\"\n",
    "    END as \"Mayor30\"\n",
    "FROM customers c\n",
    "\n",
    "```"
   ]
  },
  {
   "attachments": {},
   "cell_type": "markdown",
   "metadata": {},
   "source": [
    "```\n",
    "SELECT c1.*\n",
    "    , CASE\n",
    "        WHEN c.Age >30 THEN \"Sí\"\n",
    "        WHEN c.Age <= 30 THEN \"No\"\n",
    "        ELSE \"Missing Data\"\n",
    "    END as \"Mayor30\"\n",
    "FROM calls c1\n",
    "INNER JOIN customers c2\n",
    "    ON c1.customerid = c2.customerid\n",
    "WHERE UPPER(c2.occupation) LIKE '%%ENGINEER%%'\n",
    "\n",
    "```"
   ]
  },
  {
   "attachments": {},
   "cell_type": "markdown",
   "metadata": {},
   "source": [
    "```\n",
    "SELECT COUNT(c1.callid) as \"llamadas totales\"\n",
    "    , SUM(c1.productsoId) as \"ventas totales\"\n",
    "FROM calls c1\n",
    "INNER JOIN customers c2\n",
    "    ON c1.customerid = c2.customerid\n",
    "WHERE UPPER(c2.occupation) LIKE '%%ENGINEER%%'\n",
    "\n",
    "\n",
    "SELECT COUNT(c1.callid) as \"llamadas totales\"\n",
    "    , SUM(c1.productsoId) as \"ventas totales\"\n",
    "FROM calls c1\n",
    "\n",
    "```"
   ]
  },
  {
   "attachments": {},
   "cell_type": "markdown",
   "metadata": {},
   "source": [
    "```\n",
    "SELECT a.name as \"AgentName\"\n",
    "    , COUNT(c1.callid) as \"NCalls\"\n",
    "    , MIN(c1.duration) as \"Shortest\"\n",
    "    , MAX(c1.duration) as \"Longest\"\n",
    "    , AVG(c1.duration) as \"AvgDuration\n",
    "    , SUM(c1.productsoId) as \"TotalSales\"\n",
    "FROM calls c1\n",
    "INNER JOIN agents a\n",
    "    ON c1.agentid = a.agentid\n",
    "WHERE c1.pickedup = 1\n",
    "ORDER BY AgentName ASC\n",
    "\n",
    "```"
   ]
  },
  {
   "attachments": {},
   "cell_type": "markdown",
   "metadata": {},
   "source": [
    "```\n",
    "SELECT * \n",
    "FROM \n",
    "    (SELECT\n",
    "        c1.agentid\n",
    "        , AVG(c1.duration) as \"SuccessAvgDuration\"\n",
    "    FROM calls c1\n",
    "    WHERE c1.productsoId > 0 \n",
    "    GROUP BY c1.agentid) t1\n",
    "OUTER JOIN \n",
    "    (SELECT\n",
    "        c1.agentid\n",
    "        , AVG(c1.duration) as \"FailureAvgDuration\"\n",
    "    FROM calls c1\n",
    "    WHERE c1.productsoId = 0 AND c1.pickedup = 1\n",
    "    GROUP BY c1.agentid) t2\n",
    "    \n",
    "ON t1.agentid = t2.agentid\n",
    "\n",
    "```"
   ]
  },
  {
   "attachments": {},
   "cell_type": "markdown",
   "metadata": {},
   "source": [
    "```\n",
    "\n",
    "\n",
    "```"
   ]
  },
  {
   "attachments": {},
   "cell_type": "markdown",
   "metadata": {},
   "source": [
    "```\n",
    "\n",
    "\n",
    "```"
   ]
  },
  {
   "attachments": {},
   "cell_type": "markdown",
   "metadata": {},
   "source": [
    "```\n",
    "\n",
    "\n",
    "```"
   ]
  },
  {
   "attachments": {},
   "cell_type": "markdown",
   "metadata": {},
   "source": [
    "```\n",
    "\n",
    "\n",
    "```"
   ]
  },
  {
   "cell_type": "markdown",
   "metadata": {},
   "source": []
  },
  {
   "cell_type": "markdown",
   "metadata": {},
   "source": []
  },
  {
   "cell_type": "markdown",
   "metadata": {},
   "source": []
  },
  {
   "cell_type": "markdown",
   "metadata": {},
   "source": []
  },
  {
   "cell_type": "code",
   "execution_count": null,
   "metadata": {},
   "outputs": [],
   "source": []
  }
 ],
 "metadata": {
  "kernelspec": {
   "display_name": "base",
   "language": "python",
   "name": "python3"
  },
  "language_info": {
   "codemirror_mode": {
    "name": "ipython",
    "version": 3
   },
   "file_extension": ".py",
   "mimetype": "text/x-python",
   "name": "python",
   "nbconvert_exporter": "python",
   "pygments_lexer": "ipython3",
   "version": "3.9.16"
  },
  "orig_nbformat": 4,
  "vscode": {
   "interpreter": {
    "hash": "f506ea6ad3cdd143e00922cd7413cd7a1b83580fe7abf8de8fb11d06ac5448c5"
   }
  }
 },
 "nbformat": 4,
 "nbformat_minor": 2
}
